{
  "nbformat": 4,
  "nbformat_minor": 0,
  "metadata": {
    "colab": {
      "name": "MKII App form Danny app March 22",
      "provenance": []
    },
    "kernelspec": {
      "name": "python3",
      "display_name": "Python 3"
    },
    "language_info": {
      "name": "python"
    },
    "widgets": {
      "application/vnd.jupyter.widget-state+json": {
        "88db32a49c724d6aaf19bdb78b31af54": {
          "model_module": "@jupyter-widgets/controls",
          "model_name": "FileUploadModel",
          "model_module_version": "1.5.0",
          "state": {
            "_counter": 1,
            "_dom_classes": [],
            "_model_module": "@jupyter-widgets/controls",
            "_model_module_version": "1.5.0",
            "_model_name": "FileUploadModel",
            "_view_count": null,
            "_view_module": "@jupyter-widgets/controls",
            "_view_module_version": "1.5.0",
            "_view_name": "FileUploadView",
            "accept": "",
            "button_style": "",
            "data": [
              null
            ],
            "description": "Upload",
            "description_tooltip": null,
            "disabled": false,
            "error": "",
            "icon": "upload",
            "layout": "IPY_MODEL_0334dfb97bf54e4ba6c086f7dc317eca",
            "metadata": [
              {
                "name": "IMG_EA854FFE53BD-1.jpeg",
                "type": "image/jpeg",
                "size": 946010,
                "lastModified": 1648068104000
              }
            ],
            "multiple": false,
            "style": "IPY_MODEL_567626ac7d2749239915feb9e4b33cf4"
          }
        },
        "0334dfb97bf54e4ba6c086f7dc317eca": {
          "model_module": "@jupyter-widgets/base",
          "model_name": "LayoutModel",
          "model_module_version": "1.2.0",
          "state": {
            "_model_module": "@jupyter-widgets/base",
            "_model_module_version": "1.2.0",
            "_model_name": "LayoutModel",
            "_view_count": null,
            "_view_module": "@jupyter-widgets/base",
            "_view_module_version": "1.2.0",
            "_view_name": "LayoutView",
            "align_content": null,
            "align_items": null,
            "align_self": null,
            "border": null,
            "bottom": null,
            "display": null,
            "flex": null,
            "flex_flow": null,
            "grid_area": null,
            "grid_auto_columns": null,
            "grid_auto_flow": null,
            "grid_auto_rows": null,
            "grid_column": null,
            "grid_gap": null,
            "grid_row": null,
            "grid_template_areas": null,
            "grid_template_columns": null,
            "grid_template_rows": null,
            "height": null,
            "justify_content": null,
            "justify_items": null,
            "left": null,
            "margin": null,
            "max_height": null,
            "max_width": null,
            "min_height": null,
            "min_width": null,
            "object_fit": null,
            "object_position": null,
            "order": null,
            "overflow": null,
            "overflow_x": null,
            "overflow_y": null,
            "padding": null,
            "right": null,
            "top": null,
            "visibility": null,
            "width": null
          }
        },
        "567626ac7d2749239915feb9e4b33cf4": {
          "model_module": "@jupyter-widgets/controls",
          "model_name": "ButtonStyleModel",
          "model_module_version": "1.5.0",
          "state": {
            "_model_module": "@jupyter-widgets/controls",
            "_model_module_version": "1.5.0",
            "_model_name": "ButtonStyleModel",
            "_view_count": null,
            "_view_module": "@jupyter-widgets/base",
            "_view_module_version": "1.2.0",
            "_view_name": "StyleView",
            "button_color": null,
            "font_weight": ""
          }
        },
        "f51d546cc5294c0daf0a45fb55562e3c": {
          "model_module": "@jupyter-widgets/output",
          "model_name": "OutputModel",
          "model_module_version": "1.0.0",
          "state": {
            "_dom_classes": [],
            "_model_module": "@jupyter-widgets/output",
            "_model_module_version": "1.0.0",
            "_model_name": "OutputModel",
            "_view_count": null,
            "_view_module": "@jupyter-widgets/output",
            "_view_module_version": "1.0.0",
            "_view_name": "OutputView",
            "layout": "IPY_MODEL_4fcae7052559499186ca203f2761866d",
            "msg_id": "",
            "outputs": [
              {
                "output_type": "display_data",
                "data": {
                  "text/plain": "<PIL.Image.Image image mode=RGB size=111x128 at 0x7FB6DFC32210>",
                  "image/png": "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\n"
                },
                "metadata": {}
              }
            ]
          }
        },
        "4fcae7052559499186ca203f2761866d": {
          "model_module": "@jupyter-widgets/base",
          "model_name": "LayoutModel",
          "model_module_version": "1.2.0",
          "state": {
            "_model_module": "@jupyter-widgets/base",
            "_model_module_version": "1.2.0",
            "_model_name": "LayoutModel",
            "_view_count": null,
            "_view_module": "@jupyter-widgets/base",
            "_view_module_version": "1.2.0",
            "_view_name": "LayoutView",
            "align_content": null,
            "align_items": null,
            "align_self": null,
            "border": null,
            "bottom": null,
            "display": null,
            "flex": null,
            "flex_flow": null,
            "grid_area": null,
            "grid_auto_columns": null,
            "grid_auto_flow": null,
            "grid_auto_rows": null,
            "grid_column": null,
            "grid_gap": null,
            "grid_row": null,
            "grid_template_areas": null,
            "grid_template_columns": null,
            "grid_template_rows": null,
            "height": null,
            "justify_content": null,
            "justify_items": null,
            "left": null,
            "margin": null,
            "max_height": null,
            "max_width": null,
            "min_height": null,
            "min_width": null,
            "object_fit": null,
            "object_position": null,
            "order": null,
            "overflow": null,
            "overflow_x": null,
            "overflow_y": null,
            "padding": null,
            "right": null,
            "top": null,
            "visibility": null,
            "width": null
          }
        },
        "a6677daa5f5843eab59657b9c91a8906": {
          "model_module": "@jupyter-widgets/controls",
          "model_name": "LabelModel",
          "model_module_version": "1.5.0",
          "state": {
            "_dom_classes": [],
            "_model_module": "@jupyter-widgets/controls",
            "_model_module_version": "1.5.0",
            "_model_name": "LabelModel",
            "_view_count": null,
            "_view_module": "@jupyter-widgets/controls",
            "_view_module_version": "1.5.0",
            "_view_name": "LabelView",
            "description": "",
            "description_tooltip": null,
            "layout": "IPY_MODEL_3cba701aa67f493c9cafa49a7ad45c1c",
            "placeholder": "​",
            "style": "IPY_MODEL_68526f12651d4192a1f9aa270f106fed",
            "value": "Prediction: danny; Probability: 0.9917"
          }
        },
        "3cba701aa67f493c9cafa49a7ad45c1c": {
          "model_module": "@jupyter-widgets/base",
          "model_name": "LayoutModel",
          "model_module_version": "1.2.0",
          "state": {
            "_model_module": "@jupyter-widgets/base",
            "_model_module_version": "1.2.0",
            "_model_name": "LayoutModel",
            "_view_count": null,
            "_view_module": "@jupyter-widgets/base",
            "_view_module_version": "1.2.0",
            "_view_name": "LayoutView",
            "align_content": null,
            "align_items": null,
            "align_self": null,
            "border": null,
            "bottom": null,
            "display": null,
            "flex": null,
            "flex_flow": null,
            "grid_area": null,
            "grid_auto_columns": null,
            "grid_auto_flow": null,
            "grid_auto_rows": null,
            "grid_column": null,
            "grid_gap": null,
            "grid_row": null,
            "grid_template_areas": null,
            "grid_template_columns": null,
            "grid_template_rows": null,
            "height": null,
            "justify_content": null,
            "justify_items": null,
            "left": null,
            "margin": null,
            "max_height": null,
            "max_width": null,
            "min_height": null,
            "min_width": null,
            "object_fit": null,
            "object_position": null,
            "order": null,
            "overflow": null,
            "overflow_x": null,
            "overflow_y": null,
            "padding": null,
            "right": null,
            "top": null,
            "visibility": null,
            "width": null
          }
        },
        "68526f12651d4192a1f9aa270f106fed": {
          "model_module": "@jupyter-widgets/controls",
          "model_name": "DescriptionStyleModel",
          "model_module_version": "1.5.0",
          "state": {
            "_model_module": "@jupyter-widgets/controls",
            "_model_module_version": "1.5.0",
            "_model_name": "DescriptionStyleModel",
            "_view_count": null,
            "_view_module": "@jupyter-widgets/base",
            "_view_module_version": "1.2.0",
            "_view_name": "StyleView",
            "description_width": ""
          }
        },
        "bc2ea51d76a44ea6918c68f43010fae4": {
          "model_module": "@jupyter-widgets/controls",
          "model_name": "ButtonModel",
          "model_module_version": "1.5.0",
          "state": {
            "_dom_classes": [],
            "_model_module": "@jupyter-widgets/controls",
            "_model_module_version": "1.5.0",
            "_model_name": "ButtonModel",
            "_view_count": null,
            "_view_module": "@jupyter-widgets/controls",
            "_view_module_version": "1.5.0",
            "_view_name": "ButtonView",
            "button_style": "",
            "description": "Classify",
            "disabled": false,
            "icon": "",
            "layout": "IPY_MODEL_524939660a224967960a6e9920a0e3c1",
            "style": "IPY_MODEL_872e550d4a634a06b78676bd205e90fc",
            "tooltip": ""
          }
        },
        "524939660a224967960a6e9920a0e3c1": {
          "model_module": "@jupyter-widgets/base",
          "model_name": "LayoutModel",
          "model_module_version": "1.2.0",
          "state": {
            "_model_module": "@jupyter-widgets/base",
            "_model_module_version": "1.2.0",
            "_model_name": "LayoutModel",
            "_view_count": null,
            "_view_module": "@jupyter-widgets/base",
            "_view_module_version": "1.2.0",
            "_view_name": "LayoutView",
            "align_content": null,
            "align_items": null,
            "align_self": null,
            "border": null,
            "bottom": null,
            "display": null,
            "flex": null,
            "flex_flow": null,
            "grid_area": null,
            "grid_auto_columns": null,
            "grid_auto_flow": null,
            "grid_auto_rows": null,
            "grid_column": null,
            "grid_gap": null,
            "grid_row": null,
            "grid_template_areas": null,
            "grid_template_columns": null,
            "grid_template_rows": null,
            "height": null,
            "justify_content": null,
            "justify_items": null,
            "left": null,
            "margin": null,
            "max_height": null,
            "max_width": null,
            "min_height": null,
            "min_width": null,
            "object_fit": null,
            "object_position": null,
            "order": null,
            "overflow": null,
            "overflow_x": null,
            "overflow_y": null,
            "padding": null,
            "right": null,
            "top": null,
            "visibility": null,
            "width": null
          }
        },
        "872e550d4a634a06b78676bd205e90fc": {
          "model_module": "@jupyter-widgets/controls",
          "model_name": "ButtonStyleModel",
          "model_module_version": "1.5.0",
          "state": {
            "_model_module": "@jupyter-widgets/controls",
            "_model_module_version": "1.5.0",
            "_model_name": "ButtonStyleModel",
            "_view_count": null,
            "_view_module": "@jupyter-widgets/base",
            "_view_module_version": "1.2.0",
            "_view_name": "StyleView",
            "button_color": null,
            "font_weight": ""
          }
        },
        "2b0aa886669346f8a3dc74cb9e968a76": {
          "model_module": "@jupyter-widgets/controls",
          "model_name": "VBoxModel",
          "model_module_version": "1.5.0",
          "state": {
            "_dom_classes": [],
            "_model_module": "@jupyter-widgets/controls",
            "_model_module_version": "1.5.0",
            "_model_name": "VBoxModel",
            "_view_count": null,
            "_view_module": "@jupyter-widgets/controls",
            "_view_module_version": "1.5.0",
            "_view_name": "VBoxView",
            "box_style": "",
            "children": [
              "IPY_MODEL_340cd940f8bc41109ce12d91a8bd6825",
              "IPY_MODEL_0f53cabfff2d400aac94d53c2f885798",
              "IPY_MODEL_bc2ea51d76a44ea6918c68f43010fae4",
              "IPY_MODEL_f51d546cc5294c0daf0a45fb55562e3c",
              "IPY_MODEL_a6677daa5f5843eab59657b9c91a8906"
            ],
            "layout": "IPY_MODEL_fa00b3b18fab498c8bc128a17db01da5"
          }
        },
        "340cd940f8bc41109ce12d91a8bd6825": {
          "model_module": "@jupyter-widgets/controls",
          "model_name": "LabelModel",
          "model_module_version": "1.5.0",
          "state": {
            "_dom_classes": [],
            "_model_module": "@jupyter-widgets/controls",
            "_model_module_version": "1.5.0",
            "_model_name": "LabelModel",
            "_view_count": null,
            "_view_module": "@jupyter-widgets/controls",
            "_view_module_version": "1.5.0",
            "_view_name": "LabelView",
            "description": "",
            "description_tooltip": null,
            "layout": "IPY_MODEL_825b655b72b34fb4b38ebf38cb76122f",
            "placeholder": "​",
            "style": "IPY_MODEL_b1519c1127af47caa97457f6ff3edc71",
            "value": "Select your Nephew!"
          }
        },
        "0f53cabfff2d400aac94d53c2f885798": {
          "model_module": "@jupyter-widgets/controls",
          "model_name": "FileUploadModel",
          "model_module_version": "1.5.0",
          "state": {
            "_counter": 0,
            "_dom_classes": [],
            "_model_module": "@jupyter-widgets/controls",
            "_model_module_version": "1.5.0",
            "_model_name": "FileUploadModel",
            "_view_count": null,
            "_view_module": "@jupyter-widgets/controls",
            "_view_module_version": "1.5.0",
            "_view_name": "FileUploadView",
            "accept": "",
            "button_style": "",
            "data": [],
            "description": "Upload",
            "description_tooltip": null,
            "disabled": false,
            "error": "",
            "icon": "upload",
            "layout": "IPY_MODEL_f25d847d7fed4a2ea859f2ec1226c2b6",
            "metadata": [],
            "multiple": false,
            "style": "IPY_MODEL_a86067983279411994cdf591fc9a4c01"
          }
        },
        "fa00b3b18fab498c8bc128a17db01da5": {
          "model_module": "@jupyter-widgets/base",
          "model_name": "LayoutModel",
          "model_module_version": "1.2.0",
          "state": {
            "_model_module": "@jupyter-widgets/base",
            "_model_module_version": "1.2.0",
            "_model_name": "LayoutModel",
            "_view_count": null,
            "_view_module": "@jupyter-widgets/base",
            "_view_module_version": "1.2.0",
            "_view_name": "LayoutView",
            "align_content": null,
            "align_items": null,
            "align_self": null,
            "border": null,
            "bottom": null,
            "display": null,
            "flex": null,
            "flex_flow": null,
            "grid_area": null,
            "grid_auto_columns": null,
            "grid_auto_flow": null,
            "grid_auto_rows": null,
            "grid_column": null,
            "grid_gap": null,
            "grid_row": null,
            "grid_template_areas": null,
            "grid_template_columns": null,
            "grid_template_rows": null,
            "height": null,
            "justify_content": null,
            "justify_items": null,
            "left": null,
            "margin": null,
            "max_height": null,
            "max_width": null,
            "min_height": null,
            "min_width": null,
            "object_fit": null,
            "object_position": null,
            "order": null,
            "overflow": null,
            "overflow_x": null,
            "overflow_y": null,
            "padding": null,
            "right": null,
            "top": null,
            "visibility": null,
            "width": null
          }
        },
        "825b655b72b34fb4b38ebf38cb76122f": {
          "model_module": "@jupyter-widgets/base",
          "model_name": "LayoutModel",
          "model_module_version": "1.2.0",
          "state": {
            "_model_module": "@jupyter-widgets/base",
            "_model_module_version": "1.2.0",
            "_model_name": "LayoutModel",
            "_view_count": null,
            "_view_module": "@jupyter-widgets/base",
            "_view_module_version": "1.2.0",
            "_view_name": "LayoutView",
            "align_content": null,
            "align_items": null,
            "align_self": null,
            "border": null,
            "bottom": null,
            "display": null,
            "flex": null,
            "flex_flow": null,
            "grid_area": null,
            "grid_auto_columns": null,
            "grid_auto_flow": null,
            "grid_auto_rows": null,
            "grid_column": null,
            "grid_gap": null,
            "grid_row": null,
            "grid_template_areas": null,
            "grid_template_columns": null,
            "grid_template_rows": null,
            "height": null,
            "justify_content": null,
            "justify_items": null,
            "left": null,
            "margin": null,
            "max_height": null,
            "max_width": null,
            "min_height": null,
            "min_width": null,
            "object_fit": null,
            "object_position": null,
            "order": null,
            "overflow": null,
            "overflow_x": null,
            "overflow_y": null,
            "padding": null,
            "right": null,
            "top": null,
            "visibility": null,
            "width": null
          }
        },
        "b1519c1127af47caa97457f6ff3edc71": {
          "model_module": "@jupyter-widgets/controls",
          "model_name": "DescriptionStyleModel",
          "model_module_version": "1.5.0",
          "state": {
            "_model_module": "@jupyter-widgets/controls",
            "_model_module_version": "1.5.0",
            "_model_name": "DescriptionStyleModel",
            "_view_count": null,
            "_view_module": "@jupyter-widgets/base",
            "_view_module_version": "1.2.0",
            "_view_name": "StyleView",
            "description_width": ""
          }
        },
        "f25d847d7fed4a2ea859f2ec1226c2b6": {
          "model_module": "@jupyter-widgets/base",
          "model_name": "LayoutModel",
          "model_module_version": "1.2.0",
          "state": {
            "_model_module": "@jupyter-widgets/base",
            "_model_module_version": "1.2.0",
            "_model_name": "LayoutModel",
            "_view_count": null,
            "_view_module": "@jupyter-widgets/base",
            "_view_module_version": "1.2.0",
            "_view_name": "LayoutView",
            "align_content": null,
            "align_items": null,
            "align_self": null,
            "border": null,
            "bottom": null,
            "display": null,
            "flex": null,
            "flex_flow": null,
            "grid_area": null,
            "grid_auto_columns": null,
            "grid_auto_flow": null,
            "grid_auto_rows": null,
            "grid_column": null,
            "grid_gap": null,
            "grid_row": null,
            "grid_template_areas": null,
            "grid_template_columns": null,
            "grid_template_rows": null,
            "height": null,
            "justify_content": null,
            "justify_items": null,
            "left": null,
            "margin": null,
            "max_height": null,
            "max_width": null,
            "min_height": null,
            "min_width": null,
            "object_fit": null,
            "object_position": null,
            "order": null,
            "overflow": null,
            "overflow_x": null,
            "overflow_y": null,
            "padding": null,
            "right": null,
            "top": null,
            "visibility": null,
            "width": null
          }
        },
        "a86067983279411994cdf591fc9a4c01": {
          "model_module": "@jupyter-widgets/controls",
          "model_name": "ButtonStyleModel",
          "model_module_version": "1.5.0",
          "state": {
            "_model_module": "@jupyter-widgets/controls",
            "_model_module_version": "1.5.0",
            "_model_name": "ButtonStyleModel",
            "_view_count": null,
            "_view_module": "@jupyter-widgets/base",
            "_view_module_version": "1.2.0",
            "_view_name": "StyleView",
            "button_color": null,
            "font_weight": ""
          }
        }
      }
    }
  },
  "cells": [
    {
      "cell_type": "code",
      "execution_count": 55,
      "metadata": {
        "id": "7X4DRe2t9ss_"
      },
      "outputs": [],
      "source": [
        "!pip install -Uqq fastbook\n",
        "import fastbook\n",
        "fastbook.setup_book()\n",
        "from fastbook import *\n",
        "from fastai.vision.widgets import *\n",
        "from ipywidgets import *"
      ]
    },
    {
      "cell_type": "code",
      "source": [
        "path = Path ()\n",
        "learn_inf = load_learner(path/'/content/gdrive/MyDrive/The boys ai project/Mikey Danny.pkl', cpu=True)\n",
        "\n"
      ],
      "metadata": {
        "id": "p0i3wcgK96Rv"
      },
      "execution_count": 56,
      "outputs": []
    },
    {
      "cell_type": "code",
      "source": [
        "btn_upload = widgets.FileUpload()\n",
        "btn_upload"
      ],
      "metadata": {
        "colab": {
          "base_uri": "https://localhost:8080/",
          "height": 49,
          "referenced_widgets": [
            "88db32a49c724d6aaf19bdb78b31af54",
            "0334dfb97bf54e4ba6c086f7dc317eca",
            "567626ac7d2749239915feb9e4b33cf4"
          ]
        },
        "id": "oVD8KHGxKjPu",
        "outputId": "6268f816-e967-4b2a-c88f-a31f00d39e14"
      },
      "execution_count": 57,
      "outputs": [
        {
          "output_type": "display_data",
          "data": {
            "text/plain": [
              "FileUpload(value={}, description='Upload')"
            ],
            "application/vnd.jupyter.widget-view+json": {
              "version_major": 2,
              "version_minor": 0,
              "model_id": "88db32a49c724d6aaf19bdb78b31af54"
            }
          },
          "metadata": {}
        }
      ]
    },
    {
      "cell_type": "code",
      "source": [
        "img = PILImage.create(btn_upload.data[-1])"
      ],
      "metadata": {
        "id": "fzBfVSbjPn3D"
      },
      "execution_count": null,
      "outputs": []
    },
    {
      "cell_type": "code",
      "source": [
        "out_pl = widgets.Output()\n",
        "out_pl.clear_output()\n",
        "with out_pl: display(img.to_thumb(128,128))\n",
        "out_pl"
      ],
      "metadata": {
        "colab": {
          "base_uri": "https://localhost:8080/",
          "height": 145,
          "referenced_widgets": [
            "f51d546cc5294c0daf0a45fb55562e3c",
            "4fcae7052559499186ca203f2761866d"
          ]
        },
        "id": "DMjDYsWVLTF9",
        "outputId": "679b569c-c70d-48ca-c766-5ea74c7f6d9e"
      },
      "execution_count": 59,
      "outputs": [
        {
          "output_type": "display_data",
          "data": {
            "text/plain": [
              "Output()"
            ],
            "application/vnd.jupyter.widget-view+json": {
              "version_major": 2,
              "version_minor": 0,
              "model_id": "f51d546cc5294c0daf0a45fb55562e3c"
            }
          },
          "metadata": {}
        }
      ]
    },
    {
      "cell_type": "code",
      "source": [
        "pred,pred_idx,probs = learn_inf.predict(img)"
      ],
      "metadata": {
        "colab": {
          "base_uri": "https://localhost:8080/",
          "height": 17
        },
        "id": "Mnv5AgspQJ42",
        "outputId": "c292cab3-6558-4ab1-ead0-c0e7e57330ad"
      },
      "execution_count": 60,
      "outputs": [
        {
          "output_type": "display_data",
          "data": {
            "text/plain": [
              "<IPython.core.display.HTML object>"
            ],
            "text/html": [
              "\n",
              "<style>\n",
              "    /* Turns off some styling */\n",
              "    progress {\n",
              "        /* gets rid of default border in Firefox and Opera. */\n",
              "        border: none;\n",
              "        /* Needs to be in here for Safari polyfill so background images work as expected. */\n",
              "        background-size: auto;\n",
              "    }\n",
              "    .progress-bar-interrupted, .progress-bar-interrupted::-webkit-progress-bar {\n",
              "        background: #F44336;\n",
              "    }\n",
              "</style>\n"
            ]
          },
          "metadata": {}
        },
        {
          "output_type": "display_data",
          "data": {
            "text/plain": [
              "<IPython.core.display.HTML object>"
            ],
            "text/html": [
              ""
            ]
          },
          "metadata": {}
        }
      ]
    },
    {
      "cell_type": "code",
      "source": [
        "lbl_pred = widgets.Label()\n",
        "lbl_pred.value = f'Prediction: {pred}; Probability: {probs[pred_idx]:.04f}'\n",
        "lbl_pred"
      ],
      "metadata": {
        "colab": {
          "base_uri": "https://localhost:8080/",
          "height": 49,
          "referenced_widgets": [
            "a6677daa5f5843eab59657b9c91a8906",
            "3cba701aa67f493c9cafa49a7ad45c1c",
            "68526f12651d4192a1f9aa270f106fed"
          ]
        },
        "id": "3NaNQSgfQdqh",
        "outputId": "65228088-d276-4de7-c9e0-80fe0572307c"
      },
      "execution_count": 61,
      "outputs": [
        {
          "output_type": "display_data",
          "data": {
            "text/plain": [
              "Label(value='Prediction: danny; Probability: 0.9917')"
            ],
            "application/vnd.jupyter.widget-view+json": {
              "version_major": 2,
              "version_minor": 0,
              "model_id": "a6677daa5f5843eab59657b9c91a8906"
            }
          },
          "metadata": {}
        }
      ]
    },
    {
      "cell_type": "code",
      "source": [
        "btn_run = widgets.Button(description='Classify')\n",
        "btn_run\n",
        "\n"
      ],
      "metadata": {
        "colab": {
          "base_uri": "https://localhost:8080/",
          "height": 49,
          "referenced_widgets": [
            "bc2ea51d76a44ea6918c68f43010fae4",
            "524939660a224967960a6e9920a0e3c1",
            "872e550d4a634a06b78676bd205e90fc"
          ]
        },
        "id": "f5Xml5dfNOXk",
        "outputId": "0bd08aef-d101-461e-bb76-b1d02eed4a42"
      },
      "execution_count": 62,
      "outputs": [
        {
          "output_type": "display_data",
          "data": {
            "text/plain": [
              "Button(description='Classify', style=ButtonStyle())"
            ],
            "application/vnd.jupyter.widget-view+json": {
              "version_major": 2,
              "version_minor": 0,
              "model_id": "bc2ea51d76a44ea6918c68f43010fae4"
            }
          },
          "metadata": {}
        }
      ]
    },
    {
      "cell_type": "code",
      "source": [
        "def on_click_classify(change):\n",
        "    img = PILImage.create(btn_upload.data[-1])\n",
        "    out_pl.clear_output()\n",
        "    with out_pl: display(img.to_thumb(128,128))\n",
        "    pred,pred_idx,probs = learn_inf.predict(img)\n",
        "    lbl_pred.value = f'Prediction: {pred}; Probability: {probs[pred_idx]:.04f}'\n",
        "\n"
      ],
      "metadata": {
        "id": "3IoWBmLL99xi"
      },
      "execution_count": 63,
      "outputs": []
    },
    {
      "cell_type": "code",
      "source": [
        "btn_upload = widgets.FileUpload()"
      ],
      "metadata": {
        "id": "WP4y-OdmA9RZ"
      },
      "execution_count": 64,
      "outputs": []
    },
    {
      "cell_type": "code",
      "source": [
        "VBox([widgets.Label('Select your Nephew!'), \n",
        "      btn_upload, btn_run, out_pl, lbl_pred])"
      ],
      "metadata": {
        "colab": {
          "base_uri": "https://localhost:8080/",
          "height": 273,
          "referenced_widgets": [
            "2b0aa886669346f8a3dc74cb9e968a76",
            "340cd940f8bc41109ce12d91a8bd6825",
            "0f53cabfff2d400aac94d53c2f885798",
            "bc2ea51d76a44ea6918c68f43010fae4",
            "f51d546cc5294c0daf0a45fb55562e3c",
            "a6677daa5f5843eab59657b9c91a8906",
            "fa00b3b18fab498c8bc128a17db01da5",
            "825b655b72b34fb4b38ebf38cb76122f",
            "b1519c1127af47caa97457f6ff3edc71",
            "f25d847d7fed4a2ea859f2ec1226c2b6",
            "a86067983279411994cdf591fc9a4c01",
            "524939660a224967960a6e9920a0e3c1",
            "872e550d4a634a06b78676bd205e90fc",
            "3cba701aa67f493c9cafa49a7ad45c1c",
            "68526f12651d4192a1f9aa270f106fed",
            "4fcae7052559499186ca203f2761866d"
          ]
        },
        "id": "Iks11Q8ZBcDE",
        "outputId": "15b93c36-e0c6-4449-c3a0-ee2674a3d39d"
      },
      "execution_count": 65,
      "outputs": [
        {
          "output_type": "display_data",
          "data": {
            "text/plain": [
              "VBox(children=(Label(value='Select your Nephew!'), FileUpload(value={}, description='Upload'), Button(descript…"
            ],
            "application/vnd.jupyter.widget-view+json": {
              "version_major": 2,
              "version_minor": 0,
              "model_id": "2b0aa886669346f8a3dc74cb9e968a76"
            }
          },
          "metadata": {}
        }
      ]
    }
  ]
}