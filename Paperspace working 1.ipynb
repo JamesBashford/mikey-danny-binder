{
 "cells": [
  {
   "cell_type": "code",
   "execution_count": 45,
   "id": "63093637-3b5b-4df0-b0e6-ccf5ef82b837",
   "metadata": {},
   "outputs": [],
   "source": [
    "#hide\n",
    "!pip install -Uqq fastbook\n",
    "import fastbook\n",
    "fastbook.setup_book()"
   ]
  },
  {
   "cell_type": "code",
   "execution_count": 46,
   "id": "b64bff34-d720-4a88-8b85-5a744dccb8ea",
   "metadata": {},
   "outputs": [],
   "source": [
    "from fastbook import *\n",
    "from fastai.vision.widgets import *"
   ]
  },
  {
   "cell_type": "code",
   "execution_count": 47,
   "id": "5d1c02c3-26f9-49b7-98d6-feeb9a3c3447",
   "metadata": {},
   "outputs": [],
   "source": [
    "path = Path()\n"
   ]
  },
  {
   "cell_type": "code",
   "execution_count": 48,
   "id": "589a766e-9cd9-4d3e-8d37-51927ac1cd38",
   "metadata": {},
   "outputs": [],
   "source": [
    "learn_inf = load_learner(path/'MikeyDanny.pkl')\n"
   ]
  },
  {
   "cell_type": "code",
   "execution_count": 49,
   "id": "86f6dc87-e65c-4f74-9fd4-c7fcc9146d82",
   "metadata": {},
   "outputs": [],
   "source": [
    "out_pl = widgets.Output()\n"
   ]
  },
  {
   "cell_type": "code",
   "execution_count": 50,
   "id": "f2f6fd44-4f3f-4665-bb1d-be4826ff95dd",
   "metadata": {},
   "outputs": [],
   "source": [
    "lbl_pred = widgets.Label()\n"
   ]
  },
  {
   "cell_type": "code",
   "execution_count": 51,
   "id": "cb50bc61-9f2b-4cff-9096-8ddff4775608",
   "metadata": {},
   "outputs": [],
   "source": [
    "def on_click_classify(change):\n",
    "    img = PILImage.create(btn_upload.data[-1])\n",
    "    out_pl.clear_output()\n",
    "    with out_pl: display(img.to_thumb(128,128))\n",
    "    pred,pred_idx,probs = learn_inf.predict(img)\n",
    "    lbl_pred.value = f'Prediction: {pred}; Probability: {probs[pred_idx]:.04f}'\n"
   ]
  },
  {
   "cell_type": "code",
   "execution_count": 53,
   "id": "8fb00c80-f8dd-4cc0-9ac3-e7347a8cf168",
   "metadata": {},
   "outputs": [
    {
     "data": {
      "application/vnd.jupyter.widget-view+json": {
       "model_id": "575ce1136478456aa3c4ba8047ca7c66",
       "version_major": 2,
       "version_minor": 0
      },
      "text/plain": [
       "FileUpload(value={}, description='Upload')"
      ]
     },
     "metadata": {},
     "output_type": "display_data"
    }
   ],
   "source": [
    "btn_upload = widgets.FileUpload()\n",
    "btn_upload"
   ]
  },
  {
   "cell_type": "code",
   "execution_count": 55,
   "id": "1077b467-0c1c-4977-8658-a41f8728eecb",
   "metadata": {},
   "outputs": [],
   "source": [
    "btn_run = widgets.Button(description='Classify')\n",
    "btn_run.on_click(on_click_classify)"
   ]
  },
  {
   "cell_type": "code",
   "execution_count": 56,
   "id": "0a5bf99c-a6e4-469d-a86b-7fe1ff23e903",
   "metadata": {},
   "outputs": [],
   "source": [
    "btn_upload = widgets.FileUpload()"
   ]
  },
  {
   "cell_type": "code",
   "execution_count": 57,
   "id": "c555f56d-318e-4e62-b9bf-6395b831c04f",
   "metadata": {},
   "outputs": [
    {
     "data": {
      "application/vnd.jupyter.widget-view+json": {
       "model_id": "0c7e890bbafb40c6b30cb75e2856e444",
       "version_major": 2,
       "version_minor": 0
      },
      "text/plain": [
       "VBox(children=(Label(value='Select your Nephew!'), FileUpload(value={}, description='Upload'), Button(descript…"
      ]
     },
     "metadata": {},
     "output_type": "display_data"
    }
   ],
   "source": [
    "VBox([widgets.Label('Select your Nephew!'), \n",
    "      btn_upload, btn_run, out_pl, lbl_pred])"
   ]
  },
  {
   "cell_type": "code",
   "execution_count": null,
   "id": "f69f5be3-94ac-49e4-bcaa-0d4c4b118259",
   "metadata": {},
   "outputs": [],
   "source": []
  }
 ],
 "metadata": {
  "kernelspec": {
   "display_name": "Python 3 (ipykernel)",
   "language": "python",
   "name": "python3"
  },
  "language_info": {
   "codemirror_mode": {
    "name": "ipython",
    "version": 3
   },
   "file_extension": ".py",
   "mimetype": "text/x-python",
   "name": "python",
   "nbconvert_exporter": "python",
   "pygments_lexer": "ipython3",
   "version": "3.9.10"
  }
 },
 "nbformat": 4,
 "nbformat_minor": 5
}
