{
  "nbformat": 4,
  "nbformat_minor": 0,
  "metadata": {
    "colab": {
      "name": "April 9th 2022 try at simplifying mikey danny stuff ",
      "provenance": [],
      "collapsed_sections": []
    },
    "kernelspec": {
      "name": "python3",
      "display_name": "Python 3"
    },
    "accelerator": "GPU",
    "widgets": {
      "application/vnd.jupyter.widget-state+json": {
        "a35bb27b79224434bf86c7c0eb0e5253": {
          "model_module": "@jupyter-widgets/controls",
          "model_name": "FileUploadModel",
          "model_module_version": "1.5.0",
          "state": {
            "_counter": 1,
            "_dom_classes": [],
            "_model_module": "@jupyter-widgets/controls",
            "_model_module_version": "1.5.0",
            "_model_name": "FileUploadModel",
            "_view_count": null,
            "_view_module": "@jupyter-widgets/controls",
            "_view_module_version": "1.5.0",
            "_view_name": "FileUploadView",
            "accept": "",
            "button_style": "",
            "data": [
              null
            ],
            "description": "Upload",
            "description_tooltip": null,
            "disabled": false,
            "error": "",
            "icon": "upload",
            "layout": "IPY_MODEL_199bf654708b4c2f8f412a5ec3b8a50c",
            "metadata": [
              {
                "name": "IMG_EA854FFE53BD-1 copy.jpeg",
                "type": "image/jpeg",
                "size": 946010,
                "lastModified": 1648068104000
              }
            ],
            "multiple": false,
            "style": "IPY_MODEL_c5f669e45cf24962bd3283e475f71923"
          }
        },
        "199bf654708b4c2f8f412a5ec3b8a50c": {
          "model_module": "@jupyter-widgets/base",
          "model_name": "LayoutModel",
          "model_module_version": "1.2.0",
          "state": {
            "_model_module": "@jupyter-widgets/base",
            "_model_module_version": "1.2.0",
            "_model_name": "LayoutModel",
            "_view_count": null,
            "_view_module": "@jupyter-widgets/base",
            "_view_module_version": "1.2.0",
            "_view_name": "LayoutView",
            "align_content": null,
            "align_items": null,
            "align_self": null,
            "border": null,
            "bottom": null,
            "display": null,
            "flex": null,
            "flex_flow": null,
            "grid_area": null,
            "grid_auto_columns": null,
            "grid_auto_flow": null,
            "grid_auto_rows": null,
            "grid_column": null,
            "grid_gap": null,
            "grid_row": null,
            "grid_template_areas": null,
            "grid_template_columns": null,
            "grid_template_rows": null,
            "height": null,
            "justify_content": null,
            "justify_items": null,
            "left": null,
            "margin": null,
            "max_height": null,
            "max_width": null,
            "min_height": null,
            "min_width": null,
            "object_fit": null,
            "object_position": null,
            "order": null,
            "overflow": null,
            "overflow_x": null,
            "overflow_y": null,
            "padding": null,
            "right": null,
            "top": null,
            "visibility": null,
            "width": null
          }
        },
        "c5f669e45cf24962bd3283e475f71923": {
          "model_module": "@jupyter-widgets/controls",
          "model_name": "ButtonStyleModel",
          "model_module_version": "1.5.0",
          "state": {
            "_model_module": "@jupyter-widgets/controls",
            "_model_module_version": "1.5.0",
            "_model_name": "ButtonStyleModel",
            "_view_count": null,
            "_view_module": "@jupyter-widgets/base",
            "_view_module_version": "1.2.0",
            "_view_name": "StyleView",
            "button_color": null,
            "font_weight": ""
          }
        },
        "c93ef86759e84d0f9892b27f5a6cfe37": {
          "model_module": "@jupyter-widgets/output",
          "model_name": "OutputModel",
          "model_module_version": "1.0.0",
          "state": {
            "_dom_classes": [],
            "_model_module": "@jupyter-widgets/output",
            "_model_module_version": "1.0.0",
            "_model_name": "OutputModel",
            "_view_count": null,
            "_view_module": "@jupyter-widgets/output",
            "_view_module_version": "1.0.0",
            "_view_name": "OutputView",
            "layout": "IPY_MODEL_22f92c54078145ac8a41d80897205347",
            "msg_id": "",
            "outputs": [
              {
                "output_type": "display_data",
                "data": {
                  "text/plain": "<PIL.Image.Image image mode=RGB size=107x128 at 0x7FB215D2AD50>",
                  "image/png": "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\n"
                },
                "metadata": {}
              }
            ]
          }
        },
        "22f92c54078145ac8a41d80897205347": {
          "model_module": "@jupyter-widgets/base",
          "model_name": "LayoutModel",
          "model_module_version": "1.2.0",
          "state": {
            "_model_module": "@jupyter-widgets/base",
            "_model_module_version": "1.2.0",
            "_model_name": "LayoutModel",
            "_view_count": null,
            "_view_module": "@jupyter-widgets/base",
            "_view_module_version": "1.2.0",
            "_view_name": "LayoutView",
            "align_content": null,
            "align_items": null,
            "align_self": null,
            "border": null,
            "bottom": null,
            "display": null,
            "flex": null,
            "flex_flow": null,
            "grid_area": null,
            "grid_auto_columns": null,
            "grid_auto_flow": null,
            "grid_auto_rows": null,
            "grid_column": null,
            "grid_gap": null,
            "grid_row": null,
            "grid_template_areas": null,
            "grid_template_columns": null,
            "grid_template_rows": null,
            "height": null,
            "justify_content": null,
            "justify_items": null,
            "left": null,
            "margin": null,
            "max_height": null,
            "max_width": null,
            "min_height": null,
            "min_width": null,
            "object_fit": null,
            "object_position": null,
            "order": null,
            "overflow": null,
            "overflow_x": null,
            "overflow_y": null,
            "padding": null,
            "right": null,
            "top": null,
            "visibility": null,
            "width": null
          }
        },
        "f3011dfa3438442a8f9eddfb7a12c3c4": {
          "model_module": "@jupyter-widgets/controls",
          "model_name": "LabelModel",
          "model_module_version": "1.5.0",
          "state": {
            "_dom_classes": [],
            "_model_module": "@jupyter-widgets/controls",
            "_model_module_version": "1.5.0",
            "_model_name": "LabelModel",
            "_view_count": null,
            "_view_module": "@jupyter-widgets/controls",
            "_view_module_version": "1.5.0",
            "_view_name": "LabelView",
            "description": "",
            "description_tooltip": null,
            "layout": "IPY_MODEL_c75fcba2d5a64a748e34afc4644cbe3e",
            "placeholder": "​",
            "style": "IPY_MODEL_f87b3c606a614596a9bdcef49e950f08",
            "value": "Prediction: danny; Probability: 0.9993"
          }
        },
        "c75fcba2d5a64a748e34afc4644cbe3e": {
          "model_module": "@jupyter-widgets/base",
          "model_name": "LayoutModel",
          "model_module_version": "1.2.0",
          "state": {
            "_model_module": "@jupyter-widgets/base",
            "_model_module_version": "1.2.0",
            "_model_name": "LayoutModel",
            "_view_count": null,
            "_view_module": "@jupyter-widgets/base",
            "_view_module_version": "1.2.0",
            "_view_name": "LayoutView",
            "align_content": null,
            "align_items": null,
            "align_self": null,
            "border": null,
            "bottom": null,
            "display": null,
            "flex": null,
            "flex_flow": null,
            "grid_area": null,
            "grid_auto_columns": null,
            "grid_auto_flow": null,
            "grid_auto_rows": null,
            "grid_column": null,
            "grid_gap": null,
            "grid_row": null,
            "grid_template_areas": null,
            "grid_template_columns": null,
            "grid_template_rows": null,
            "height": null,
            "justify_content": null,
            "justify_items": null,
            "left": null,
            "margin": null,
            "max_height": null,
            "max_width": null,
            "min_height": null,
            "min_width": null,
            "object_fit": null,
            "object_position": null,
            "order": null,
            "overflow": null,
            "overflow_x": null,
            "overflow_y": null,
            "padding": null,
            "right": null,
            "top": null,
            "visibility": null,
            "width": null
          }
        },
        "f87b3c606a614596a9bdcef49e950f08": {
          "model_module": "@jupyter-widgets/controls",
          "model_name": "DescriptionStyleModel",
          "model_module_version": "1.5.0",
          "state": {
            "_model_module": "@jupyter-widgets/controls",
            "_model_module_version": "1.5.0",
            "_model_name": "DescriptionStyleModel",
            "_view_count": null,
            "_view_module": "@jupyter-widgets/base",
            "_view_module_version": "1.2.0",
            "_view_name": "StyleView",
            "description_width": ""
          }
        },
        "ad245379b2bd44f7b37c0d8f3b3016a9": {
          "model_module": "@jupyter-widgets/controls",
          "model_name": "ButtonModel",
          "model_module_version": "1.5.0",
          "state": {
            "_dom_classes": [],
            "_model_module": "@jupyter-widgets/controls",
            "_model_module_version": "1.5.0",
            "_model_name": "ButtonModel",
            "_view_count": null,
            "_view_module": "@jupyter-widgets/controls",
            "_view_module_version": "1.5.0",
            "_view_name": "ButtonView",
            "button_style": "",
            "description": "Classify",
            "disabled": false,
            "icon": "",
            "layout": "IPY_MODEL_60d5cf84f4e64ac984e0e07c85b4da47",
            "style": "IPY_MODEL_d00c529f1c0847fba225dd3451cda41f",
            "tooltip": ""
          }
        },
        "60d5cf84f4e64ac984e0e07c85b4da47": {
          "model_module": "@jupyter-widgets/base",
          "model_name": "LayoutModel",
          "model_module_version": "1.2.0",
          "state": {
            "_model_module": "@jupyter-widgets/base",
            "_model_module_version": "1.2.0",
            "_model_name": "LayoutModel",
            "_view_count": null,
            "_view_module": "@jupyter-widgets/base",
            "_view_module_version": "1.2.0",
            "_view_name": "LayoutView",
            "align_content": null,
            "align_items": null,
            "align_self": null,
            "border": null,
            "bottom": null,
            "display": null,
            "flex": null,
            "flex_flow": null,
            "grid_area": null,
            "grid_auto_columns": null,
            "grid_auto_flow": null,
            "grid_auto_rows": null,
            "grid_column": null,
            "grid_gap": null,
            "grid_row": null,
            "grid_template_areas": null,
            "grid_template_columns": null,
            "grid_template_rows": null,
            "height": null,
            "justify_content": null,
            "justify_items": null,
            "left": null,
            "margin": null,
            "max_height": null,
            "max_width": null,
            "min_height": null,
            "min_width": null,
            "object_fit": null,
            "object_position": null,
            "order": null,
            "overflow": null,
            "overflow_x": null,
            "overflow_y": null,
            "padding": null,
            "right": null,
            "top": null,
            "visibility": null,
            "width": null
          }
        },
        "d00c529f1c0847fba225dd3451cda41f": {
          "model_module": "@jupyter-widgets/controls",
          "model_name": "ButtonStyleModel",
          "model_module_version": "1.5.0",
          "state": {
            "_model_module": "@jupyter-widgets/controls",
            "_model_module_version": "1.5.0",
            "_model_name": "ButtonStyleModel",
            "_view_count": null,
            "_view_module": "@jupyter-widgets/base",
            "_view_module_version": "1.2.0",
            "_view_name": "StyleView",
            "button_color": null,
            "font_weight": ""
          }
        },
        "72aa76205f2d4117aa7026cb89f3df53": {
          "model_module": "@jupyter-widgets/controls",
          "model_name": "VBoxModel",
          "model_module_version": "1.5.0",
          "state": {
            "_dom_classes": [],
            "_model_module": "@jupyter-widgets/controls",
            "_model_module_version": "1.5.0",
            "_model_name": "VBoxModel",
            "_view_count": null,
            "_view_module": "@jupyter-widgets/controls",
            "_view_module_version": "1.5.0",
            "_view_name": "VBoxView",
            "box_style": "",
            "children": [
              "IPY_MODEL_e6ffe6789b3f4ccf86c9a585cab99298",
              "IPY_MODEL_a3153da5b7e14d9f9de9765d2a835520",
              "IPY_MODEL_ad245379b2bd44f7b37c0d8f3b3016a9",
              "IPY_MODEL_c93ef86759e84d0f9892b27f5a6cfe37",
              "IPY_MODEL_f3011dfa3438442a8f9eddfb7a12c3c4"
            ],
            "layout": "IPY_MODEL_43f8cf176a324383ab0889c45c203ea1"
          }
        },
        "e6ffe6789b3f4ccf86c9a585cab99298": {
          "model_module": "@jupyter-widgets/controls",
          "model_name": "LabelModel",
          "model_module_version": "1.5.0",
          "state": {
            "_dom_classes": [],
            "_model_module": "@jupyter-widgets/controls",
            "_model_module_version": "1.5.0",
            "_model_name": "LabelModel",
            "_view_count": null,
            "_view_module": "@jupyter-widgets/controls",
            "_view_module_version": "1.5.0",
            "_view_name": "LabelView",
            "description": "",
            "description_tooltip": null,
            "layout": "IPY_MODEL_d536ecae877a42518f3c5eb221ece55c",
            "placeholder": "​",
            "style": "IPY_MODEL_94268f6277de4485812a70a9e6e337ae",
            "value": "Select your Nephew!"
          }
        },
        "a3153da5b7e14d9f9de9765d2a835520": {
          "model_module": "@jupyter-widgets/controls",
          "model_name": "FileUploadModel",
          "model_module_version": "1.5.0",
          "state": {
            "_counter": 1,
            "_dom_classes": [],
            "_model_module": "@jupyter-widgets/controls",
            "_model_module_version": "1.5.0",
            "_model_name": "FileUploadModel",
            "_view_count": null,
            "_view_module": "@jupyter-widgets/controls",
            "_view_module_version": "1.5.0",
            "_view_name": "FileUploadView",
            "accept": "",
            "button_style": "",
            "data": [
              null
            ],
            "description": "Upload",
            "description_tooltip": null,
            "disabled": false,
            "error": "",
            "icon": "upload",
            "layout": "IPY_MODEL_13980a4185ad4e46b22957d85006f071",
            "metadata": [
              {
                "name": "Screenshot 2022-04-07 at 20.35.47.png",
                "type": "image/png",
                "size": 669728,
                "lastModified": 1649360149496
              }
            ],
            "multiple": false,
            "style": "IPY_MODEL_444acaed83f74e4d8d803bfae53a2921"
          }
        },
        "43f8cf176a324383ab0889c45c203ea1": {
          "model_module": "@jupyter-widgets/base",
          "model_name": "LayoutModel",
          "model_module_version": "1.2.0",
          "state": {
            "_model_module": "@jupyter-widgets/base",
            "_model_module_version": "1.2.0",
            "_model_name": "LayoutModel",
            "_view_count": null,
            "_view_module": "@jupyter-widgets/base",
            "_view_module_version": "1.2.0",
            "_view_name": "LayoutView",
            "align_content": null,
            "align_items": null,
            "align_self": null,
            "border": null,
            "bottom": null,
            "display": null,
            "flex": null,
            "flex_flow": null,
            "grid_area": null,
            "grid_auto_columns": null,
            "grid_auto_flow": null,
            "grid_auto_rows": null,
            "grid_column": null,
            "grid_gap": null,
            "grid_row": null,
            "grid_template_areas": null,
            "grid_template_columns": null,
            "grid_template_rows": null,
            "height": null,
            "justify_content": null,
            "justify_items": null,
            "left": null,
            "margin": null,
            "max_height": null,
            "max_width": null,
            "min_height": null,
            "min_width": null,
            "object_fit": null,
            "object_position": null,
            "order": null,
            "overflow": null,
            "overflow_x": null,
            "overflow_y": null,
            "padding": null,
            "right": null,
            "top": null,
            "visibility": null,
            "width": null
          }
        },
        "d536ecae877a42518f3c5eb221ece55c": {
          "model_module": "@jupyter-widgets/base",
          "model_name": "LayoutModel",
          "model_module_version": "1.2.0",
          "state": {
            "_model_module": "@jupyter-widgets/base",
            "_model_module_version": "1.2.0",
            "_model_name": "LayoutModel",
            "_view_count": null,
            "_view_module": "@jupyter-widgets/base",
            "_view_module_version": "1.2.0",
            "_view_name": "LayoutView",
            "align_content": null,
            "align_items": null,
            "align_self": null,
            "border": null,
            "bottom": null,
            "display": null,
            "flex": null,
            "flex_flow": null,
            "grid_area": null,
            "grid_auto_columns": null,
            "grid_auto_flow": null,
            "grid_auto_rows": null,
            "grid_column": null,
            "grid_gap": null,
            "grid_row": null,
            "grid_template_areas": null,
            "grid_template_columns": null,
            "grid_template_rows": null,
            "height": null,
            "justify_content": null,
            "justify_items": null,
            "left": null,
            "margin": null,
            "max_height": null,
            "max_width": null,
            "min_height": null,
            "min_width": null,
            "object_fit": null,
            "object_position": null,
            "order": null,
            "overflow": null,
            "overflow_x": null,
            "overflow_y": null,
            "padding": null,
            "right": null,
            "top": null,
            "visibility": null,
            "width": null
          }
        },
        "94268f6277de4485812a70a9e6e337ae": {
          "model_module": "@jupyter-widgets/controls",
          "model_name": "DescriptionStyleModel",
          "model_module_version": "1.5.0",
          "state": {
            "_model_module": "@jupyter-widgets/controls",
            "_model_module_version": "1.5.0",
            "_model_name": "DescriptionStyleModel",
            "_view_count": null,
            "_view_module": "@jupyter-widgets/base",
            "_view_module_version": "1.2.0",
            "_view_name": "StyleView",
            "description_width": ""
          }
        },
        "13980a4185ad4e46b22957d85006f071": {
          "model_module": "@jupyter-widgets/base",
          "model_name": "LayoutModel",
          "model_module_version": "1.2.0",
          "state": {
            "_model_module": "@jupyter-widgets/base",
            "_model_module_version": "1.2.0",
            "_model_name": "LayoutModel",
            "_view_count": null,
            "_view_module": "@jupyter-widgets/base",
            "_view_module_version": "1.2.0",
            "_view_name": "LayoutView",
            "align_content": null,
            "align_items": null,
            "align_self": null,
            "border": null,
            "bottom": null,
            "display": null,
            "flex": null,
            "flex_flow": null,
            "grid_area": null,
            "grid_auto_columns": null,
            "grid_auto_flow": null,
            "grid_auto_rows": null,
            "grid_column": null,
            "grid_gap": null,
            "grid_row": null,
            "grid_template_areas": null,
            "grid_template_columns": null,
            "grid_template_rows": null,
            "height": null,
            "justify_content": null,
            "justify_items": null,
            "left": null,
            "margin": null,
            "max_height": null,
            "max_width": null,
            "min_height": null,
            "min_width": null,
            "object_fit": null,
            "object_position": null,
            "order": null,
            "overflow": null,
            "overflow_x": null,
            "overflow_y": null,
            "padding": null,
            "right": null,
            "top": null,
            "visibility": null,
            "width": null
          }
        },
        "444acaed83f74e4d8d803bfae53a2921": {
          "model_module": "@jupyter-widgets/controls",
          "model_name": "ButtonStyleModel",
          "model_module_version": "1.5.0",
          "state": {
            "_model_module": "@jupyter-widgets/controls",
            "_model_module_version": "1.5.0",
            "_model_name": "ButtonStyleModel",
            "_view_count": null,
            "_view_module": "@jupyter-widgets/base",
            "_view_module_version": "1.2.0",
            "_view_name": "StyleView",
            "button_color": null,
            "font_weight": ""
          }
        }
      }
    }
  },
  "cells": [
    {
      "cell_type": "code",
      "metadata": {
        "colab": {
          "base_uri": "https://localhost:8080/"
        },
        "id": "a7eWm8cXv3ls",
        "outputId": "023fa797-a215-4caa-f0b5-d69dd8603a28"
      },
      "source": [
        "#hide\n",
        "!pip install -Uqq fastbook\n",
        "import fastbook\n",
        "fastbook.setup_book()"
      ],
      "execution_count": 1,
      "outputs": [
        {
          "output_type": "stream",
          "name": "stdout",
          "text": [
            "Mounted at /content/gdrive\n"
          ]
        }
      ]
    },
    {
      "cell_type": "code",
      "metadata": {
        "id": "ALDigYRpwBqP"
      },
      "source": [
        "#hide\n",
        "from fastbook import *\n",
        "from fastai.vision.widgets import *"
      ],
      "execution_count": 2,
      "outputs": []
    },
    {
      "cell_type": "code",
      "metadata": {
        "id": "cx3APLXkaqaM"
      },
      "source": [
        "path = Path()\n",
        "\n"
      ],
      "execution_count": 3,
      "outputs": []
    },
    {
      "cell_type": "code",
      "metadata": {
        "id": "eV3L3NgKbGgn"
      },
      "source": [
        "learn_inf = load_learner(path/'MikeyDanny.pkl')\n"
      ],
      "execution_count": 4,
      "outputs": []
    },
    {
      "cell_type": "code",
      "metadata": {
        "colab": {
          "base_uri": "https://localhost:8080/",
          "height": 49,
          "referenced_widgets": [
            "a35bb27b79224434bf86c7c0eb0e5253",
            "199bf654708b4c2f8f412a5ec3b8a50c",
            "c5f669e45cf24962bd3283e475f71923"
          ]
        },
        "id": "wpBUg_DgcPtl",
        "outputId": "43013904-012e-4ec7-9bb3-3d6471b97789"
      },
      "source": [
        "btn_upload = widgets.FileUpload()\n",
        "btn_upload"
      ],
      "execution_count": 5,
      "outputs": [
        {
          "output_type": "display_data",
          "data": {
            "text/plain": [
              "FileUpload(value={}, description='Upload')"
            ],
            "application/vnd.jupyter.widget-view+json": {
              "version_major": 2,
              "version_minor": 0,
              "model_id": "a35bb27b79224434bf86c7c0eb0e5253"
            }
          },
          "metadata": {}
        }
      ]
    },
    {
      "cell_type": "markdown",
      "metadata": {
        "id": "9Lw4z18LWc_p"
      },
      "source": [
        "Now we can grab the image:"
      ]
    },
    {
      "cell_type": "code",
      "metadata": {
        "id": "XQ5Xb7BogPHj"
      },
      "source": [
        "img = PILImage.create(btn_upload.data[-1])"
      ],
      "execution_count": 7,
      "outputs": []
    },
    {
      "cell_type": "markdown",
      "metadata": {
        "id": "_lMJ2y5YWonR"
      },
      "source": [
        "We can use an `Output` widget to display it:"
      ]
    },
    {
      "cell_type": "code",
      "metadata": {
        "colab": {
          "base_uri": "https://localhost:8080/",
          "height": 145,
          "referenced_widgets": [
            "c93ef86759e84d0f9892b27f5a6cfe37",
            "22f92c54078145ac8a41d80897205347"
          ]
        },
        "id": "F-M2DkwYgSf4",
        "outputId": "a9bd4d4c-78d3-495b-a75e-93ae7f342be9"
      },
      "source": [
        "out_pl = widgets.Output()\n",
        "out_pl.clear_output()\n",
        "with out_pl: display(img.to_thumb(128,128))\n",
        "out_pl"
      ],
      "execution_count": 8,
      "outputs": [
        {
          "output_type": "display_data",
          "data": {
            "text/plain": [
              "Output()"
            ],
            "application/vnd.jupyter.widget-view+json": {
              "version_major": 2,
              "version_minor": 0,
              "model_id": "c93ef86759e84d0f9892b27f5a6cfe37"
            }
          },
          "metadata": {}
        }
      ]
    },
    {
      "cell_type": "code",
      "metadata": {
        "colab": {
          "base_uri": "https://localhost:8080/",
          "height": 17
        },
        "id": "ZMSpaUh2gZlG",
        "outputId": "db29b7e5-70a5-465a-f73a-f1746595ae6f"
      },
      "source": [
        "pred,pred_idx,probs = learn_inf.predict(img)"
      ],
      "execution_count": 9,
      "outputs": [
        {
          "output_type": "display_data",
          "data": {
            "text/plain": [
              "<IPython.core.display.HTML object>"
            ],
            "text/html": [
              "\n",
              "<style>\n",
              "    /* Turns off some styling */\n",
              "    progress {\n",
              "        /* gets rid of default border in Firefox and Opera. */\n",
              "        border: none;\n",
              "        /* Needs to be in here for Safari polyfill so background images work as expected. */\n",
              "        background-size: auto;\n",
              "    }\n",
              "    .progress-bar-interrupted, .progress-bar-interrupted::-webkit-progress-bar {\n",
              "        background: #F44336;\n",
              "    }\n",
              "</style>\n"
            ]
          },
          "metadata": {}
        },
        {
          "output_type": "display_data",
          "data": {
            "text/plain": [
              "<IPython.core.display.HTML object>"
            ],
            "text/html": [
              ""
            ]
          },
          "metadata": {}
        }
      ]
    },
    {
      "cell_type": "markdown",
      "metadata": {
        "id": "M2x5P7JqW1iy"
      },
      "source": [
        "Then we can get our predictions:"
      ]
    },
    {
      "cell_type": "code",
      "metadata": {
        "colab": {
          "base_uri": "https://localhost:8080/",
          "height": 49,
          "referenced_widgets": [
            "f3011dfa3438442a8f9eddfb7a12c3c4",
            "c75fcba2d5a64a748e34afc4644cbe3e",
            "f87b3c606a614596a9bdcef49e950f08"
          ]
        },
        "id": "nbgNde6DgfP1",
        "outputId": "0f5d13bf-61da-4e69-d268-94455f695334"
      },
      "source": [
        "lbl_pred = widgets.Label()\n",
        "lbl_pred.value = f'Prediction: {pred}; Probability: {probs[pred_idx]:.04f}'\n",
        "lbl_pred"
      ],
      "execution_count": 10,
      "outputs": [
        {
          "output_type": "display_data",
          "data": {
            "text/plain": [
              "Label(value='Prediction: danny; Probability: 0.9917')"
            ],
            "application/vnd.jupyter.widget-view+json": {
              "version_major": 2,
              "version_minor": 0,
              "model_id": "f3011dfa3438442a8f9eddfb7a12c3c4"
            }
          },
          "metadata": {}
        }
      ]
    },
    {
      "cell_type": "markdown",
      "metadata": {
        "id": "jHFfL5uDJYcr"
      },
      "source": [
        "We need a button to do the classification"
      ]
    },
    {
      "cell_type": "code",
      "metadata": {
        "colab": {
          "base_uri": "https://localhost:8080/",
          "height": 49,
          "referenced_widgets": [
            "ad245379b2bd44f7b37c0d8f3b3016a9",
            "60d5cf84f4e64ac984e0e07c85b4da47",
            "d00c529f1c0847fba225dd3451cda41f"
          ]
        },
        "id": "61zk8MdCJSiH",
        "outputId": "832fe88f-a405-4ea0-eaef-be71f45dc648"
      },
      "source": [
        "btn_run = widgets.Button(description='Classify')\n",
        "btn_run"
      ],
      "execution_count": 11,
      "outputs": [
        {
          "output_type": "display_data",
          "data": {
            "text/plain": [
              "Button(description='Classify', style=ButtonStyle())"
            ],
            "application/vnd.jupyter.widget-view+json": {
              "version_major": 2,
              "version_minor": 0,
              "model_id": "ad245379b2bd44f7b37c0d8f3b3016a9"
            }
          },
          "metadata": {}
        }
      ]
    },
    {
      "cell_type": "markdown",
      "metadata": {
        "id": "o5VASSgGJkXf"
      },
      "source": [
        "We'll also need a *click event handler*; that is, a function that will be called when it's pressed. We can just copy over the lines of code from above:"
      ]
    },
    {
      "cell_type": "code",
      "metadata": {
        "id": "Fh1HZk6BJk9E"
      },
      "source": [
        "def on_click_classify(change):\n",
        "    img = PILImage.create(btn_upload.data[-1])\n",
        "    out_pl.clear_output()\n",
        "    with out_pl: display(img.to_thumb(128,128))\n",
        "    pred,pred_idx,probs = learn_inf.predict(img)\n",
        "    lbl_pred.value = f'Prediction: {pred}; Probability: {probs[pred_idx]:.04f}'\n",
        "\n",
        "btn_run.on_click(on_click_classify)"
      ],
      "execution_count": 12,
      "outputs": []
    },
    {
      "cell_type": "markdown",
      "metadata": {
        "id": "cCE7kfOLJtZU"
      },
      "source": [
        "You can test the button now by pressing it, and you should see the image and predictions update automatically!\n",
        "We can now put them all in a vertical box (VBox) to complete our GUI:"
      ]
    },
    {
      "cell_type": "code",
      "metadata": {
        "id": "XJHlT1JpJujk"
      },
      "source": [
        "#hide\n",
        "#Putting back btn_upload to a widget for next cell\n",
        "btn_upload = widgets.FileUpload()"
      ],
      "execution_count": 13,
      "outputs": []
    },
    {
      "cell_type": "code",
      "metadata": {
        "colab": {
          "base_uri": "https://localhost:8080/",
          "height": 273,
          "referenced_widgets": [
            "72aa76205f2d4117aa7026cb89f3df53",
            "e6ffe6789b3f4ccf86c9a585cab99298",
            "a3153da5b7e14d9f9de9765d2a835520",
            "ad245379b2bd44f7b37c0d8f3b3016a9",
            "c93ef86759e84d0f9892b27f5a6cfe37",
            "f3011dfa3438442a8f9eddfb7a12c3c4",
            "43f8cf176a324383ab0889c45c203ea1",
            "d536ecae877a42518f3c5eb221ece55c",
            "94268f6277de4485812a70a9e6e337ae",
            "13980a4185ad4e46b22957d85006f071",
            "444acaed83f74e4d8d803bfae53a2921",
            "60d5cf84f4e64ac984e0e07c85b4da47",
            "d00c529f1c0847fba225dd3451cda41f",
            "c75fcba2d5a64a748e34afc4644cbe3e",
            "f87b3c606a614596a9bdcef49e950f08",
            "22f92c54078145ac8a41d80897205347"
          ]
        },
        "id": "LLOhOYELJwZw",
        "outputId": "3787f599-abee-4e7a-c415-144e9e2ef819"
      },
      "source": [
        "#hide_output\n",
        "VBox([widgets.Label('Select your Nephew!'), \n",
        "      btn_upload, btn_run, out_pl, lbl_pred])"
      ],
      "execution_count": 14,
      "outputs": [
        {
          "output_type": "display_data",
          "data": {
            "text/plain": [
              "VBox(children=(Label(value='Select your Nephew!'), FileUpload(value={}, description='Upload'), Button(descript…"
            ],
            "application/vnd.jupyter.widget-view+json": {
              "version_major": 2,
              "version_minor": 0,
              "model_id": "72aa76205f2d4117aa7026cb89f3df53"
            }
          },
          "metadata": {}
        },
        {
          "output_type": "display_data",
          "data": {
            "text/plain": [
              "<IPython.core.display.HTML object>"
            ],
            "text/html": [
              "\n",
              "<style>\n",
              "    /* Turns off some styling */\n",
              "    progress {\n",
              "        /* gets rid of default border in Firefox and Opera. */\n",
              "        border: none;\n",
              "        /* Needs to be in here for Safari polyfill so background images work as expected. */\n",
              "        background-size: auto;\n",
              "    }\n",
              "    .progress-bar-interrupted, .progress-bar-interrupted::-webkit-progress-bar {\n",
              "        background: #F44336;\n",
              "    }\n",
              "</style>\n"
            ]
          },
          "metadata": {}
        },
        {
          "output_type": "display_data",
          "data": {
            "text/plain": [
              "<IPython.core.display.HTML object>"
            ],
            "text/html": [
              ""
            ]
          },
          "metadata": {}
        }
      ]
    }
  ]
}