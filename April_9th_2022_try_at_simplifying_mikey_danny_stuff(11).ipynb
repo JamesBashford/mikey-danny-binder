{
  "nbformat": 4,
  "nbformat_minor": 0,
  "metadata": {
    "colab": {
      "name": "April 9th 2022 try at simplifying mikey danny stuff ",
      "provenance": [],
      "collapsed_sections": []
    },
    "kernelspec": {
      "name": "python3",
      "display_name": "Python 3"
    },
    "accelerator": "GPU",
    "widgets": {
      "application/vnd.jupyter.widget-state+json": {
        "48510a8464f4475598583d0d6815b6c6": {
          "model_module": "@jupyter-widgets/output",
          "model_name": "OutputModel",
          "model_module_version": "1.0.0",
          "state": {
            "_dom_classes": [],
            "_model_module": "@jupyter-widgets/output",
            "_model_module_version": "1.0.0",
            "_model_name": "OutputModel",
            "_view_count": null,
            "_view_module": "@jupyter-widgets/output",
            "_view_module_version": "1.0.0",
            "_view_name": "OutputView",
            "layout": "IPY_MODEL_01d529d6c3764dcbaa2f3d2a91529c04",
            "msg_id": "",
            "outputs": [
              {
                "output_type": "display_data",
                "data": {
                  "text/plain": "<PIL.Image.Image image mode=RGB size=96x128 at 0x7FAFFA81E910>",
                  "image/png": "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\n"
                },
                "metadata": {}
              }
            ]
          }
        },
        "01d529d6c3764dcbaa2f3d2a91529c04": {
          "model_module": "@jupyter-widgets/base",
          "model_name": "LayoutModel",
          "model_module_version": "1.2.0",
          "state": {
            "_model_module": "@jupyter-widgets/base",
            "_model_module_version": "1.2.0",
            "_model_name": "LayoutModel",
            "_view_count": null,
            "_view_module": "@jupyter-widgets/base",
            "_view_module_version": "1.2.0",
            "_view_name": "LayoutView",
            "align_content": null,
            "align_items": null,
            "align_self": null,
            "border": null,
            "bottom": null,
            "display": null,
            "flex": null,
            "flex_flow": null,
            "grid_area": null,
            "grid_auto_columns": null,
            "grid_auto_flow": null,
            "grid_auto_rows": null,
            "grid_column": null,
            "grid_gap": null,
            "grid_row": null,
            "grid_template_areas": null,
            "grid_template_columns": null,
            "grid_template_rows": null,
            "height": null,
            "justify_content": null,
            "justify_items": null,
            "left": null,
            "margin": null,
            "max_height": null,
            "max_width": null,
            "min_height": null,
            "min_width": null,
            "object_fit": null,
            "object_position": null,
            "order": null,
            "overflow": null,
            "overflow_x": null,
            "overflow_y": null,
            "padding": null,
            "right": null,
            "top": null,
            "visibility": null,
            "width": null
          }
        },
        "e9fd8c992b734af19a925aed1cf9696d": {
          "model_module": "@jupyter-widgets/controls",
          "model_name": "LabelModel",
          "model_module_version": "1.5.0",
          "state": {
            "_dom_classes": [],
            "_model_module": "@jupyter-widgets/controls",
            "_model_module_version": "1.5.0",
            "_model_name": "LabelModel",
            "_view_count": null,
            "_view_module": "@jupyter-widgets/controls",
            "_view_module_version": "1.5.0",
            "_view_name": "LabelView",
            "description": "",
            "description_tooltip": null,
            "layout": "IPY_MODEL_6e0cbffb068e4c68b066bfbc85c8e058",
            "placeholder": "​",
            "style": "IPY_MODEL_34decd487c4a47d3bc46ffd55b2670f2",
            "value": "Prediction: danny; Probability: 0.5096"
          }
        },
        "6e0cbffb068e4c68b066bfbc85c8e058": {
          "model_module": "@jupyter-widgets/base",
          "model_name": "LayoutModel",
          "model_module_version": "1.2.0",
          "state": {
            "_model_module": "@jupyter-widgets/base",
            "_model_module_version": "1.2.0",
            "_model_name": "LayoutModel",
            "_view_count": null,
            "_view_module": "@jupyter-widgets/base",
            "_view_module_version": "1.2.0",
            "_view_name": "LayoutView",
            "align_content": null,
            "align_items": null,
            "align_self": null,
            "border": null,
            "bottom": null,
            "display": null,
            "flex": null,
            "flex_flow": null,
            "grid_area": null,
            "grid_auto_columns": null,
            "grid_auto_flow": null,
            "grid_auto_rows": null,
            "grid_column": null,
            "grid_gap": null,
            "grid_row": null,
            "grid_template_areas": null,
            "grid_template_columns": null,
            "grid_template_rows": null,
            "height": null,
            "justify_content": null,
            "justify_items": null,
            "left": null,
            "margin": null,
            "max_height": null,
            "max_width": null,
            "min_height": null,
            "min_width": null,
            "object_fit": null,
            "object_position": null,
            "order": null,
            "overflow": null,
            "overflow_x": null,
            "overflow_y": null,
            "padding": null,
            "right": null,
            "top": null,
            "visibility": null,
            "width": null
          }
        },
        "34decd487c4a47d3bc46ffd55b2670f2": {
          "model_module": "@jupyter-widgets/controls",
          "model_name": "DescriptionStyleModel",
          "model_module_version": "1.5.0",
          "state": {
            "_model_module": "@jupyter-widgets/controls",
            "_model_module_version": "1.5.0",
            "_model_name": "DescriptionStyleModel",
            "_view_count": null,
            "_view_module": "@jupyter-widgets/base",
            "_view_module_version": "1.2.0",
            "_view_name": "StyleView",
            "description_width": ""
          }
        },
        "da0c8ad741414b3ca820989466c71561": {
          "model_module": "@jupyter-widgets/controls",
          "model_name": "VBoxModel",
          "model_module_version": "1.5.0",
          "state": {
            "_dom_classes": [],
            "_model_module": "@jupyter-widgets/controls",
            "_model_module_version": "1.5.0",
            "_model_name": "VBoxModel",
            "_view_count": null,
            "_view_module": "@jupyter-widgets/controls",
            "_view_module_version": "1.5.0",
            "_view_name": "VBoxView",
            "box_style": "",
            "children": [
              "IPY_MODEL_bae7f43fdcfc47dc9f9ef09149055772",
              "IPY_MODEL_58d81de8b105468aab535225cece520d",
              "IPY_MODEL_9073a953899e4d3db88b2ebd1b3d32d3",
              "IPY_MODEL_48510a8464f4475598583d0d6815b6c6",
              "IPY_MODEL_e9fd8c992b734af19a925aed1cf9696d"
            ],
            "layout": "IPY_MODEL_b5c4575838684eca800085e9e2997d29"
          }
        },
        "bae7f43fdcfc47dc9f9ef09149055772": {
          "model_module": "@jupyter-widgets/controls",
          "model_name": "LabelModel",
          "model_module_version": "1.5.0",
          "state": {
            "_dom_classes": [],
            "_model_module": "@jupyter-widgets/controls",
            "_model_module_version": "1.5.0",
            "_model_name": "LabelModel",
            "_view_count": null,
            "_view_module": "@jupyter-widgets/controls",
            "_view_module_version": "1.5.0",
            "_view_name": "LabelView",
            "description": "",
            "description_tooltip": null,
            "layout": "IPY_MODEL_e87b14c7402e4dbaa6c1f6dcd727ad21",
            "placeholder": "​",
            "style": "IPY_MODEL_8e3c7ec894d1494bb605bd1464b22fc0",
            "value": "Select your Nephew!"
          }
        },
        "58d81de8b105468aab535225cece520d": {
          "model_module": "@jupyter-widgets/controls",
          "model_name": "FileUploadModel",
          "model_module_version": "1.5.0",
          "state": {
            "_counter": 1,
            "_dom_classes": [],
            "_model_module": "@jupyter-widgets/controls",
            "_model_module_version": "1.5.0",
            "_model_name": "FileUploadModel",
            "_view_count": null,
            "_view_module": "@jupyter-widgets/controls",
            "_view_module_version": "1.5.0",
            "_view_name": "FileUploadView",
            "accept": "",
            "button_style": "",
            "data": [
              null
            ],
            "description": "Upload",
            "description_tooltip": null,
            "disabled": false,
            "error": "",
            "icon": "upload",
            "layout": "IPY_MODEL_cc872b52c5a144dfa74ed16f691ab721",
            "metadata": [
              {
                "name": "Danny.jpeg",
                "type": "image/jpeg",
                "size": 324068,
                "lastModified": 1648312160514
              }
            ],
            "multiple": false,
            "style": "IPY_MODEL_3c113061843a41ff8c147fd747cbeb09"
          }
        },
        "9073a953899e4d3db88b2ebd1b3d32d3": {
          "model_module": "@jupyter-widgets/controls",
          "model_name": "ButtonModel",
          "model_module_version": "1.5.0",
          "state": {
            "_dom_classes": [],
            "_model_module": "@jupyter-widgets/controls",
            "_model_module_version": "1.5.0",
            "_model_name": "ButtonModel",
            "_view_count": null,
            "_view_module": "@jupyter-widgets/controls",
            "_view_module_version": "1.5.0",
            "_view_name": "ButtonView",
            "button_style": "",
            "description": "Classify",
            "disabled": false,
            "icon": "",
            "layout": "IPY_MODEL_a6b4adc066b742c79162a0a6dae27b8f",
            "style": "IPY_MODEL_909a17a41bde436c8ee66dd8b9f296f8",
            "tooltip": ""
          }
        },
        "b5c4575838684eca800085e9e2997d29": {
          "model_module": "@jupyter-widgets/base",
          "model_name": "LayoutModel",
          "model_module_version": "1.2.0",
          "state": {
            "_model_module": "@jupyter-widgets/base",
            "_model_module_version": "1.2.0",
            "_model_name": "LayoutModel",
            "_view_count": null,
            "_view_module": "@jupyter-widgets/base",
            "_view_module_version": "1.2.0",
            "_view_name": "LayoutView",
            "align_content": null,
            "align_items": null,
            "align_self": null,
            "border": null,
            "bottom": null,
            "display": null,
            "flex": null,
            "flex_flow": null,
            "grid_area": null,
            "grid_auto_columns": null,
            "grid_auto_flow": null,
            "grid_auto_rows": null,
            "grid_column": null,
            "grid_gap": null,
            "grid_row": null,
            "grid_template_areas": null,
            "grid_template_columns": null,
            "grid_template_rows": null,
            "height": null,
            "justify_content": null,
            "justify_items": null,
            "left": null,
            "margin": null,
            "max_height": null,
            "max_width": null,
            "min_height": null,
            "min_width": null,
            "object_fit": null,
            "object_position": null,
            "order": null,
            "overflow": null,
            "overflow_x": null,
            "overflow_y": null,
            "padding": null,
            "right": null,
            "top": null,
            "visibility": null,
            "width": null
          }
        },
        "e87b14c7402e4dbaa6c1f6dcd727ad21": {
          "model_module": "@jupyter-widgets/base",
          "model_name": "LayoutModel",
          "model_module_version": "1.2.0",
          "state": {
            "_model_module": "@jupyter-widgets/base",
            "_model_module_version": "1.2.0",
            "_model_name": "LayoutModel",
            "_view_count": null,
            "_view_module": "@jupyter-widgets/base",
            "_view_module_version": "1.2.0",
            "_view_name": "LayoutView",
            "align_content": null,
            "align_items": null,
            "align_self": null,
            "border": null,
            "bottom": null,
            "display": null,
            "flex": null,
            "flex_flow": null,
            "grid_area": null,
            "grid_auto_columns": null,
            "grid_auto_flow": null,
            "grid_auto_rows": null,
            "grid_column": null,
            "grid_gap": null,
            "grid_row": null,
            "grid_template_areas": null,
            "grid_template_columns": null,
            "grid_template_rows": null,
            "height": null,
            "justify_content": null,
            "justify_items": null,
            "left": null,
            "margin": null,
            "max_height": null,
            "max_width": null,
            "min_height": null,
            "min_width": null,
            "object_fit": null,
            "object_position": null,
            "order": null,
            "overflow": null,
            "overflow_x": null,
            "overflow_y": null,
            "padding": null,
            "right": null,
            "top": null,
            "visibility": null,
            "width": null
          }
        },
        "8e3c7ec894d1494bb605bd1464b22fc0": {
          "model_module": "@jupyter-widgets/controls",
          "model_name": "DescriptionStyleModel",
          "model_module_version": "1.5.0",
          "state": {
            "_model_module": "@jupyter-widgets/controls",
            "_model_module_version": "1.5.0",
            "_model_name": "DescriptionStyleModel",
            "_view_count": null,
            "_view_module": "@jupyter-widgets/base",
            "_view_module_version": "1.2.0",
            "_view_name": "StyleView",
            "description_width": ""
          }
        },
        "cc872b52c5a144dfa74ed16f691ab721": {
          "model_module": "@jupyter-widgets/base",
          "model_name": "LayoutModel",
          "model_module_version": "1.2.0",
          "state": {
            "_model_module": "@jupyter-widgets/base",
            "_model_module_version": "1.2.0",
            "_model_name": "LayoutModel",
            "_view_count": null,
            "_view_module": "@jupyter-widgets/base",
            "_view_module_version": "1.2.0",
            "_view_name": "LayoutView",
            "align_content": null,
            "align_items": null,
            "align_self": null,
            "border": null,
            "bottom": null,
            "display": null,
            "flex": null,
            "flex_flow": null,
            "grid_area": null,
            "grid_auto_columns": null,
            "grid_auto_flow": null,
            "grid_auto_rows": null,
            "grid_column": null,
            "grid_gap": null,
            "grid_row": null,
            "grid_template_areas": null,
            "grid_template_columns": null,
            "grid_template_rows": null,
            "height": null,
            "justify_content": null,
            "justify_items": null,
            "left": null,
            "margin": null,
            "max_height": null,
            "max_width": null,
            "min_height": null,
            "min_width": null,
            "object_fit": null,
            "object_position": null,
            "order": null,
            "overflow": null,
            "overflow_x": null,
            "overflow_y": null,
            "padding": null,
            "right": null,
            "top": null,
            "visibility": null,
            "width": null
          }
        },
        "3c113061843a41ff8c147fd747cbeb09": {
          "model_module": "@jupyter-widgets/controls",
          "model_name": "ButtonStyleModel",
          "model_module_version": "1.5.0",
          "state": {
            "_model_module": "@jupyter-widgets/controls",
            "_model_module_version": "1.5.0",
            "_model_name": "ButtonStyleModel",
            "_view_count": null,
            "_view_module": "@jupyter-widgets/base",
            "_view_module_version": "1.2.0",
            "_view_name": "StyleView",
            "button_color": null,
            "font_weight": ""
          }
        },
        "a6b4adc066b742c79162a0a6dae27b8f": {
          "model_module": "@jupyter-widgets/base",
          "model_name": "LayoutModel",
          "model_module_version": "1.2.0",
          "state": {
            "_model_module": "@jupyter-widgets/base",
            "_model_module_version": "1.2.0",
            "_model_name": "LayoutModel",
            "_view_count": null,
            "_view_module": "@jupyter-widgets/base",
            "_view_module_version": "1.2.0",
            "_view_name": "LayoutView",
            "align_content": null,
            "align_items": null,
            "align_self": null,
            "border": null,
            "bottom": null,
            "display": null,
            "flex": null,
            "flex_flow": null,
            "grid_area": null,
            "grid_auto_columns": null,
            "grid_auto_flow": null,
            "grid_auto_rows": null,
            "grid_column": null,
            "grid_gap": null,
            "grid_row": null,
            "grid_template_areas": null,
            "grid_template_columns": null,
            "grid_template_rows": null,
            "height": null,
            "justify_content": null,
            "justify_items": null,
            "left": null,
            "margin": null,
            "max_height": null,
            "max_width": null,
            "min_height": null,
            "min_width": null,
            "object_fit": null,
            "object_position": null,
            "order": null,
            "overflow": null,
            "overflow_x": null,
            "overflow_y": null,
            "padding": null,
            "right": null,
            "top": null,
            "visibility": null,
            "width": null
          }
        },
        "909a17a41bde436c8ee66dd8b9f296f8": {
          "model_module": "@jupyter-widgets/controls",
          "model_name": "ButtonStyleModel",
          "model_module_version": "1.5.0",
          "state": {
            "_model_module": "@jupyter-widgets/controls",
            "_model_module_version": "1.5.0",
            "_model_name": "ButtonStyleModel",
            "_view_count": null,
            "_view_module": "@jupyter-widgets/base",
            "_view_module_version": "1.2.0",
            "_view_name": "StyleView",
            "button_color": null,
            "font_weight": ""
          }
        }
      }
    }
  },
  "cells": [
    {
      "cell_type": "code",
      "metadata": {
        "colab": {
          "base_uri": "https://localhost:8080/",
          "height": 134
        },
        "id": "a7eWm8cXv3ls",
        "outputId": "69c3c7b8-6a2e-4c42-9db6-1566a5118156"
      },
      "source": [
        "#hide\n",
        "!pip install -Uqq fastbook\n",
        "import fastbook\n",
        "fastbook.setup_book()"
      ],
      "execution_count": 1,
      "outputs": [
        {
          "output_type": "error",
          "ename": "SyntaxError",
          "evalue": "ignored",
          "traceback": [
            "\u001b[0;36m  File \u001b[0;32m\"<ipython-input-1-54094052d780>\"\u001b[0;36m, line \u001b[0;32m4\u001b[0m\n\u001b[0;31m    fastbook.setup_book()'''\u001b[0m\n\u001b[0m                            ^\u001b[0m\n\u001b[0;31mSyntaxError\u001b[0m\u001b[0;31m:\u001b[0m EOF while scanning triple-quoted string literal\n"
          ]
        }
      ]
    },
    {
      "cell_type": "code",
      "metadata": {
        "id": "ALDigYRpwBqP"
      },
      "source": [
        "from fastbook import *\n",
        "from fastai.vision.widgets import *"
      ],
      "execution_count": null,
      "outputs": []
    },
    {
      "cell_type": "code",
      "metadata": {
        "id": "cx3APLXkaqaM"
      },
      "source": [
        "path = Path()\n",
        "\n"
      ],
      "execution_count": null,
      "outputs": []
    },
    {
      "cell_type": "code",
      "metadata": {
        "id": "eV3L3NgKbGgn"
      },
      "source": [
        "learn_inf = load_learner(path/'MikeyDanny.pkl')\n"
      ],
      "execution_count": null,
      "outputs": []
    },
    {
      "cell_type": "code",
      "metadata": {
        "id": "Fh1HZk6BJk9E"
      },
      "source": [
        "def on_click_classify(change):\n",
        "    img = PILImage.create(btn_upload.data[-1])\n",
        "    out_pl.clear_output()\n",
        "    with out_pl: display(img.to_thumb(128,128))\n",
        "    pred,pred_idx,probs = learn_inf.predict(img)\n",
        "    lbl_pred.value = f'Prediction: {pred}; Probability: {probs[pred_idx]:.04f}'\n",
        "\n"
      ],
      "execution_count": null,
      "outputs": []
    },
    {
      "cell_type": "code",
      "source": [
        "btn_upload = widgets.FileUpload()\n",
        "btn_upload"
      ],
      "metadata": {
        "id": "sJrS7igJOqRC"
      },
      "execution_count": null,
      "outputs": []
    },
    {
      "cell_type": "code",
      "metadata": {
        "id": "61zk8MdCJSiH"
      },
      "source": [
        "btn_run = widgets.Button(description='Classify')\n",
        "btn_run.on_click(on_click_classify)"
      ],
      "execution_count": null,
      "outputs": []
    },
    {
      "cell_type": "code",
      "metadata": {
        "id": "XJHlT1JpJujk"
      },
      "source": [
        "\n",
        "btn_upload = widgets.FileUpload()"
      ],
      "execution_count": null,
      "outputs": []
    },
    {
      "cell_type": "code",
      "metadata": {
        "colab": {
          "base_uri": "https://localhost:8080/",
          "height": 273,
          "referenced_widgets": [
            "da0c8ad741414b3ca820989466c71561",
            "bae7f43fdcfc47dc9f9ef09149055772",
            "58d81de8b105468aab535225cece520d",
            "9073a953899e4d3db88b2ebd1b3d32d3",
            "48510a8464f4475598583d0d6815b6c6",
            "e9fd8c992b734af19a925aed1cf9696d",
            "b5c4575838684eca800085e9e2997d29",
            "e87b14c7402e4dbaa6c1f6dcd727ad21",
            "8e3c7ec894d1494bb605bd1464b22fc0",
            "cc872b52c5a144dfa74ed16f691ab721",
            "3c113061843a41ff8c147fd747cbeb09",
            "a6b4adc066b742c79162a0a6dae27b8f",
            "909a17a41bde436c8ee66dd8b9f296f8",
            "6e0cbffb068e4c68b066bfbc85c8e058",
            "34decd487c4a47d3bc46ffd55b2670f2",
            "01d529d6c3764dcbaa2f3d2a91529c04"
          ]
        },
        "id": "LLOhOYELJwZw",
        "outputId": "f36727c7-89c9-406a-de21-3e3386f55706"
      },
      "source": [
        "VBox([widgets.Label('Select your Nephew!'), \n",
        "      btn_upload, btn_run, out_pl, lbl_pred])"
      ],
      "execution_count": null,
      "outputs": [
        {
          "output_type": "display_data",
          "data": {
            "text/plain": [
              "VBox(children=(Label(value='Select your Nephew!'), FileUpload(value={}, description='Upload'), Button(descript…"
            ],
            "application/vnd.jupyter.widget-view+json": {
              "version_major": 2,
              "version_minor": 0,
              "model_id": "da0c8ad741414b3ca820989466c71561"
            }
          },
          "metadata": {}
        },
        {
          "output_type": "display_data",
          "data": {
            "text/plain": [
              "<IPython.core.display.HTML object>"
            ],
            "text/html": [
              "\n",
              "<style>\n",
              "    /* Turns off some styling */\n",
              "    progress {\n",
              "        /* gets rid of default border in Firefox and Opera. */\n",
              "        border: none;\n",
              "        /* Needs to be in here for Safari polyfill so background images work as expected. */\n",
              "        background-size: auto;\n",
              "    }\n",
              "    .progress-bar-interrupted, .progress-bar-interrupted::-webkit-progress-bar {\n",
              "        background: #F44336;\n",
              "    }\n",
              "</style>\n"
            ]
          },
          "metadata": {}
        },
        {
          "output_type": "display_data",
          "data": {
            "text/plain": [
              "<IPython.core.display.HTML object>"
            ],
            "text/html": [
              ""
            ]
          },
          "metadata": {}
        },
        {
          "output_type": "display_data",
          "data": {
            "text/plain": [
              "<IPython.core.display.HTML object>"
            ],
            "text/html": [
              "\n",
              "<style>\n",
              "    /* Turns off some styling */\n",
              "    progress {\n",
              "        /* gets rid of default border in Firefox and Opera. */\n",
              "        border: none;\n",
              "        /* Needs to be in here for Safari polyfill so background images work as expected. */\n",
              "        background-size: auto;\n",
              "    }\n",
              "    .progress-bar-interrupted, .progress-bar-interrupted::-webkit-progress-bar {\n",
              "        background: #F44336;\n",
              "    }\n",
              "</style>\n"
            ]
          },
          "metadata": {}
        },
        {
          "output_type": "display_data",
          "data": {
            "text/plain": [
              "<IPython.core.display.HTML object>"
            ],
            "text/html": [
              ""
            ]
          },
          "metadata": {}
        }
      ]
    }
  ]
}